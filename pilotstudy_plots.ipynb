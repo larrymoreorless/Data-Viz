{
  "nbformat": 4,
  "nbformat_minor": 0,
  "metadata": {
    "colab": {
      "name": "pilotstudy_plots",
      "version": "0.3.2",
      "provenance": [],
      "collapsed_sections": [],
      "include_colab_link": true
    },
    "kernelspec": {
      "name": "python3",
      "display_name": "Python 3"
    }
  },
  "cells": [
    {
      "cell_type": "markdown",
      "metadata": {
        "id": "view-in-github",
        "colab_type": "text"
      },
      "source": [
        "<a href=\"https://colab.research.google.com/github/larrymoreorless/Data-Viz/blob/master/pilotstudy_plots.ipynb\" target=\"_parent\"><img src=\"https://colab.research.google.com/assets/colab-badge.svg\" alt=\"Open In Colab\"/></a>"
      ]
    },
    {
      "cell_type": "code",
      "metadata": {
        "id": "JR8zAMvpur8F",
        "colab_type": "code",
        "colab": {
          "base_uri": "https://localhost:8080/",
          "height": 51
        },
        "outputId": "3b06c01b-a0dd-4636-b782-4f5fe1b5ca4c"
      },
      "source": [
        "# activate R magic\n",
        "%load_ext rpy2.ipython  "
      ],
      "execution_count": 19,
      "outputs": [
        {
          "output_type": "stream",
          "text": [
            "The rpy2.ipython extension is already loaded. To reload it, use:\n",
            "  %reload_ext rpy2.ipython\n"
          ],
          "name": "stdout"
        }
      ]
    },
    {
      "cell_type": "code",
      "metadata": {
        "id": "Y_f4jsLhusv1",
        "colab_type": "code",
        "outputId": "3e5976b2-539e-403c-e47a-4f1dfe46bc32",
        "colab": {
          "base_uri": "https://localhost:8080/",
          "height": 142
        }
      },
      "source": [
        "%%R\n",
        "library(plotly)\n",
        "library(dplyr)\n",
        "files <- list.files(path = \"/Users/lawrenceanthony/Desktop/Positions\")\n",
        "\n",
        "####Plot position and velocity for first reach\n",
        "data <- read.table(\"/Users/lawrenceanthony/Desktop/Positions/5_0.4_0.035.txt\")\n",
        "\n",
        "plot_ly(data, x = data$V1, y = data$V2, z = data$V3,\n",
        "        type = 'scatter3d', \n",
        "        mode = 'lines',\n",
        "        opacity = 1, \n",
        "        line = list(width = 3, color = \"red\"))\n",
        "\n",
        "vel <- read.table(\"/Users/lawrenceanthony/Desktop/Velocities/5_0.4_0.035.txt\")\n",
        "t=seq(0, 1.011002, length.out = 76)\n",
        "df <- data.frame(t, vel)\n",
        "\n",
        "ggplot(df, aes(x = t, y = V1)) +\n",
        "  geom_line(size=1, color=\"red\") +\n",
        "  theme_bw() +\n",
        "  ylab(\"Velocity\") +\n",
        "  xlab(\"Seconds\")\n",
        "\n",
        "\n",
        "####Plot position and velocity for second reach\n",
        "data1 <- read.table(\"/Users/lawrenceanthony/Desktop/Positions/15_0.4_0.107.txt\")\n",
        "\n",
        "plot_ly(data1, x = data1$V1, y = data1$V2, z = data1$V3,\n",
        "        type = 'scatter3d', \n",
        "        mode = 'lines',\n",
        "        opacity = 1, \n",
        "        line = list(width = 3, color = \"blue\", reverscale = TRUE))\n",
        "\n",
        "vel2 <- read.table(\"/Users/lawrenceanthony/Desktop/Velocities/15_0.4_0.107.txt\")\n",
        "t2=seq(0, 3.366943, length.out = 252)\n",
        "df2 <- data.frame(t2, vel2)\n",
        "\n",
        "ggplot(df2, aes(x = t2, y = V1)) +\n",
        "  geom_line(size=1, color=\"red\") +\n",
        "  theme_bw() +\n",
        "  ylab(\"Velocity\") +\n",
        "  xlab(\"Seconds\")\n",
        "\n",
        "####Plot position and velocity for second reach\n",
        "data2 <- read.table(\"/Users/lawrenceanthony/Desktop/Positions/10_0.24_0.042.txt\")\n",
        "\n",
        "plot_ly(data2, x = data2$V1, y = data2$V2, z = data2$V3,\n",
        "        type = 'scatter3d', \n",
        "        mode = 'lines',\n",
        "        opacity = 1, \n",
        "        line = list(width = 3, color = \"green\", reverscale = TRUE))\n",
        "\n",
        "vel3 <- read.table(\"/Users/lawrenceanthony/Desktop/Velocities/10_0.24_0.042.txt\")\n",
        "t3=seq(0, 1.366348, length.out = 102)\n",
        "df3 <- data.frame(t3, vel3)\n",
        "\n",
        "ggplot(df3, aes(x = t3, y = V1)) +\n",
        "  geom_line(size=1, color=\"red\") +\n",
        "  theme_bw() +\n",
        "  ylab(\"Velocity\") +\n",
        "  xlab(\"Seconds\")"
      ],
      "execution_count": 23,
      "outputs": [
        {
          "output_type": "stream",
          "text": [
            "\n",
            "Error in library(plotly) : there is no package called ‘plotly’\n"
          ],
          "name": "stdout"
        },
        {
          "output_type": "stream",
          "text": [
            "/usr/local/lib/python3.6/dist-packages/rpy2/rinterface/__init__.py:146: RRuntimeWarning: Error in library(plotly) : there is no package called ‘plotly’\n",
            "\n",
            "  warnings.warn(x, RRuntimeWarning)\n"
          ],
          "name": "stderr"
        }
      ]
    }
  ]
}